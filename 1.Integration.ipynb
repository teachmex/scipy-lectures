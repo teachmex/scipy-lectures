{
 "cells": [
  {
   "cell_type": "markdown",
   "metadata": {},
   "source": [
    "# Integration "
   ]
  },
  {
   "cell_type": "markdown",
   "metadata": {},
   "source": [
    "|Function|Description|\n",
    "|---------|:---------:|\n",
    "|```quad```|single integration|\n",
    "|```dblquad``` |double integration|\n",
    "|```tplquad```|\ttriple integration|\n",
    "|```nquad```\t|n-fold multiple integration|\n",
    "|```fixed_quad```|\tGaussian quadrature, order n|\n",
    "|```quadrature```|\tGaussian quadrature to tolerance|\n",
    "|```romberg```|\tRomberg integration|\n",
    "|```trapz```|\ttrapezoidal rule|\n",
    "|```cumtrapz```|\ttrapezoidal rule to cumulatively compute integral|\n",
    "|```simps```|\tSimpson’s rule|\n",
    "|```romb```|\tRomberg integration|\n",
    "|```polyint```|\tAnalytical polynomial integration (NumPy)|\n",
    "|```poly1d```\t|Helper function for polyint (NumPy)|"
   ]
  },
  {
   "cell_type": "code",
   "execution_count": 1,
   "metadata": {},
   "outputs": [],
   "source": [
    "import numpy as np\n",
    "from scipy.integrate import quad, dblquad, tplquad"
   ]
  },
  {
   "cell_type": "markdown",
   "metadata": {},
   "source": [
    "$ y = mx +c$"
   ]
  },
  {
   "cell_type": "code",
   "execution_count": 5,
   "metadata": {},
   "outputs": [
    {
     "name": "stdout",
     "output_type": "stream",
     "text": [
      "integral value = 6.499999999999999 , absolute error = 7.216449660063516e-14\n"
     ]
    }
   ],
   "source": [
    "def f(x):\n",
    "    return 5*x + 4\n",
    "\n",
    "x_lower = 0 # the lower limit of x\n",
    "x_upper = 1 # the upper limit of x\n",
    "\n",
    "val, abserr = quad(f, x_lower, x_upper)\n",
    "print(\"integral value =\", val, \", absolute error =\", abserr)"
   ]
  },
  {
   "cell_type": "markdown",
   "metadata": {},
   "source": [
    "* Bessel function"
   ]
  },
  {
   "cell_type": "code",
   "execution_count": 7,
   "metadata": {},
   "outputs": [],
   "source": [
    "from scipy.special import jn, yn, jn_zeros, yn_zeros"
   ]
  },
  {
   "cell_type": "code",
   "execution_count": 8,
   "metadata": {},
   "outputs": [
    {
     "name": "stdout",
     "output_type": "stream",
     "text": [
      "0.7366751370811073 9.389126882496403e-13\n"
     ]
    }
   ],
   "source": [
    "def integrand(x, n):\n",
    "\n",
    "    \"\"\"\n",
    "    Bessel function of first kind and order n.\n",
    "    \"\"\"\n",
    "    return jn(n, x)\n",
    "\n",
    "x_lower = 0 # the lower limit of x\n",
    "x_upper = 10 # the upper limit of x\n",
    "val, abserr = quad(integrand, x_lower, x_upper, args=(3,))\n",
    "\n",
    "print(val, abserr)"
   ]
  },
  {
   "cell_type": "markdown",
   "metadata": {},
   "source": [
    "* Gaussian function"
   ]
  },
  {
   "cell_type": "code",
   "execution_count": 9,
   "metadata": {},
   "outputs": [
    {
     "name": "stdout",
     "output_type": "stream",
     "text": [
      "numerical = 1.7724538509027912 4.6261378229003154e-14\n",
      "analytical = 1.7724538509055159\n"
     ]
    }
   ],
   "source": [
    "val, abserr = quad(lambda x: np.exp(-x ** 2), -5.0, 5.0)\n",
    "print(\"numerical =\", val, abserr)\n",
    "analytical = np.sqrt(np.pi)\n",
    "print(\"analytical =\", analytical)"
   ]
  },
  {
   "cell_type": "code",
   "execution_count": 11,
   "metadata": {},
   "outputs": [
    {
     "name": "stdout",
     "output_type": "stream",
     "text": [
      "0.7853981633974476 1.3753098510218528e-08\n"
     ]
    }
   ],
   "source": [
    "def integrand(x, y):\n",
    "    return np.exp(-x**2-y**2)\n",
    "\n",
    "x_lower = 0\n",
    "x_upper = 10\n",
    "y_lower = 0\n",
    "y_upper = 10\n",
    "\n",
    "val, abserr = dblquad(integrand, x_lower, x_upper,\\\n",
    "                      lambda x : y_lower, lambda x: y_upper)\n",
    "print(val, abserr)"
   ]
  },
  {
   "cell_type": "markdown",
   "metadata": {},
   "source": [
    "### References:\n",
    "1. http://folk.ntnu.no/leifh/teaching/tkt4140/._main000.html\n",
    "2. http://folk.ntnu.no/leifh/teaching/tkt4140/._main055.html\n",
    "3. https://docs.scipy.org/doc/scipy/reference/generated/scipy.optimize.least_squares.html#scipy.optimize.least_squares"
   ]
  }
 ],
 "metadata": {
  "kernelspec": {
   "display_name": "Python 3",
   "language": "python",
   "name": "python3"
  },
  "language_info": {
   "codemirror_mode": {
    "name": "ipython",
    "version": 3
   },
   "file_extension": ".py",
   "mimetype": "text/x-python",
   "name": "python",
   "nbconvert_exporter": "python",
   "pygments_lexer": "ipython3",
   "version": "3.7.3"
  }
 },
 "nbformat": 4,
 "nbformat_minor": 2
}
