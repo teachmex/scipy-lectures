{
 "cells": [
  {
   "cell_type": "markdown",
   "metadata": {},
   "source": [
    "## Differentiation"
   ]
  },
  {
   "cell_type": "markdown",
   "metadata": {},
   "source": [
    "### Partial Differential Equations\n",
    "\n",
    "This example is taken from [Solving a discrete boundary-value problem in scipy by Scipy CookBook](https://scipy-cookbook.readthedocs.io/items/discrete_bvp.html#solving-a-discrete-boundary-value-problem-in-scipy)"
   ]
  },
  {
   "cell_type": "markdown",
   "metadata": {},
   "source": [
    "#### PDE : Eliptic Equation (Laplace Euation)"
   ]
  },
  {
   "cell_type": "markdown",
   "metadata": {},
   "source": [
    "$ \\large{\\nabla^{2} u  + c f(u) = 0}$"
   ]
  },
  {
   "cell_type": "markdown",
   "metadata": {},
   "source": [
    "$\\large{\\frac{\\partial^{2}u}{\\partial^{2}x} + \\frac{\\partial^{2}u}{\\partial^{2}x} + cf(u) = 0}$"
   ]
  },
  {
   "cell_type": "markdown",
   "metadata": {},
   "source": [
    "for $c=1, f(u)=0$ it becomes Laplace Equation"
   ]
  },
  {
   "cell_type": "markdown",
   "metadata": {},
   "source": [
    "![img](img/lattice.png)"
   ]
  },
  {
   "cell_type": "markdown",
   "metadata": {},
   "source": [
    "Using Above lattice of finite difference:"
   ]
  },
  {
   "cell_type": "markdown",
   "metadata": {},
   "source": [
    "$\\large{(\\frac{\\partial^{2}u}{\\partial x^{2}})_{i,j} =  \\frac{u_{i-1,j} -2u_{i,j} + u_{i+1,j}}{(\\triangle x)^{2}}}$\n",
    "\n",
    "$\\large{(\\frac{\\partial^{2}u}{\\partial y^{2}})_{i,j} =  \\frac{u_{i,j-1} -2u_{i,j} + u_{i,j+1}}{(\\triangle y)^{2}}}$"
   ]
  },
  {
   "cell_type": "markdown",
   "metadata": {},
   "source": [
    "$\\large{u_{i−1,j}+u_{i+1,j} + u_{i,j−1} + u{i,j+1} − 4u_{i,j}+cf(u_{i,j})=0}$\n",
    "\n",
    "$u_{i,j}=0;  \\forall u \\in ∂Ω$\n"
   ]
  },
  {
   "cell_type": "markdown",
   "metadata": {},
   "source": [
    "for 4 by 4 lattice : [source](http://folk.ntnu.no/leifh/teaching/tkt4140/._main055.html)"
   ]
  },
  {
   "cell_type": "markdown",
   "metadata": {},
   "source": [
    "$\\begin{equation}\n",
    "    \\left(\\begin{array}{ccccccccccccccc}\n",
    "      -4& 1 & 0 & 0 & 0 & 1 & 0 & 0 & 0 & 0 & 0 & 0 & 0 & 0 &0 &0 \\\\ \n",
    "      1& -4 & 1 & 0 & 0 & 0 & 1 & 0 & 0 & 0 & 0 & 0 & 0 & 0 &0 &0\\\\ \n",
    "      0& 1 & -4 & 1 & 0 & 0 & 0 & 1 & 0 & 0 & 0 & 0 & 0 & 0 &0 &0\\\\ \n",
    "      0& 0 & 1 & -4 & 1 & 0 & 0 & 0 & 1 & 0 & 0 & 0 & 0 & 0 &0 &0\\\\ \n",
    "      0& 0 & 0 & 1 & -4 & 0 & 0 & 0 & 0 & 1 & 0 & 0 & 0 & 0 &0 &0\\\\ \n",
    "      1& 0 & 0 & 0 & 0 & -4 & 1 & 0 & 0 & 0 & 1 & 0 & 0 & 0 &0 &0\\\\ \n",
    "      0& 1 & 0 & 0 & 0 & 1 & -4 & 1 & 0 & 0 & 0 & 1 & 0 & 0 &0 &0\\\\ \n",
    "      0& 0 & 1 & 0 & 0 & 0 & 1 & -4 & 1 & 0 & 0 & 0 & 1 & 0 &0 &0\\\\ \n",
    "      0& 0 & 0 & 1 & 0 & 0 & 0 & 1 & -4 & 1 & 0 & 0 & 0 & 1 &0 &0\\\\ \n",
    "      0& 0 & 0 & 0 & 1 & 0 & 0 & 0 & 1 & -4 & 0 & 0 & 0 & 0 &1 &0\\\\ \n",
    "      0& 0 & 0 & 0 & 0 & 1 & 0 & 0 & 0 & 0 & -4 & 1 & 0 & 0 &0 &0\\\\ \n",
    "      0& 0 & 0 & 0 & 0 & 0 & 1 & 0 & 0 & 0 & 1 & -4 & 1 & 0 &0 &0\\\\ \n",
    "      0& 0 & 0 & 0 & 0 & 0 & 0 & 1 & 0 & 0 & 0 & 1 & -4 & 1 &0 &0\\\\ \n",
    "      0& 0 & 0 & 0 & 0 & 0 & 0 & 0 & 1 & 0 & 0 & 0 & 1 & -4 &1 &0\\\\ \n",
    "      0& 0 & 0 & 0 & 0 & 0 & 0 & 0 & 0 & 1 & 0 & 0 & 0 & 1 &-4 &1\\\\\n",
    "       0& 0 & 0 & 0 & 0 & 0 & 0 & 0 & 0 & 1 & 0 & 0 & 0 & 0 &1 &-4\\\\\n",
    "    \\end{array}\\right)\n",
    "    \\cdot\n",
    "    \\left(\\begin{array}{c}\n",
    "      u_{11}\\\\ \n",
    "      u_{12}\\\\ \n",
    "      u_{13}\\\\ \n",
    "      u_{14}\\\\ \n",
    "      u_{21}\\\\ \n",
    "      u_{22}\\\\ \n",
    "      u_{23}\\\\ \n",
    "      u_{24}\\\\ \n",
    "      u_{31}\\\\ \n",
    "      u_{32}\\\\ \n",
    "      u_{33}\\\\ \n",
    "      u_{34}\\\\ \n",
    "      u_{41}\\\\ \n",
    "      u_{42}\\\\ \n",
    "      u_{43}\\\\\n",
    "      u_{44}\n",
    "    \\end{array}\\right)\n",
    "    =\n",
    "    \\left(\\begin{array}{c}\n",
    "      0\\\\ \n",
    "      0\\\\ \n",
    "      0\\\\ \n",
    "      0\\\\ \n",
    "      a\\\\ \n",
    "      0\\\\ \n",
    "      0\\\\ \n",
    "      0\\\\ \n",
    "      0\\\\ \n",
    "      b\\\\ \n",
    "      0\\\\ \n",
    "      0\\\\ \n",
    "      0\\\\ \n",
    "      0\\\\ \n",
    "      c\\\\\n",
    "      0\n",
    "    \\end{array}\\right)\\end{equation}$"
   ]
  },
  {
   "cell_type": "markdown",
   "metadata": {},
   "source": [
    "Now this turn int a Problem Type : Solve $\\large{Ax = b}$"
   ]
  },
  {
   "cell_type": "markdown",
   "metadata": {},
   "source": [
    "#### Implementation of [Least square methods](https://docs.scipy.org/doc/scipy/reference/generated/scipy.optimize.least_squares.html#scipy.optimize.least_squares) to solve a $Ax = b$ problem as a optimization problem"
   ]
  },
  {
   "cell_type": "code",
   "execution_count": 19,
   "metadata": {},
   "outputs": [],
   "source": [
    "%matplotlib inline\n",
    "import matplotlib.pyplot as plt\n",
    "import numpy as np\n",
    "from scipy.optimize import least_squares\n",
    "from scipy.sparse import coo_matrix\n",
    "import seaborn as sns\n",
    "sns.set()"
   ]
  },
  {
   "cell_type": "code",
   "execution_count": 20,
   "metadata": {},
   "outputs": [],
   "source": [
    "n = 100\n",
    "c = 1"
   ]
  },
  {
   "cell_type": "code",
   "execution_count": 21,
   "metadata": {},
   "outputs": [],
   "source": [
    "def f(u):\n",
    "    return u**3\n",
    "\n",
    "def f_prime(u):\n",
    "    return 3 * u**2"
   ]
  },
  {
   "cell_type": "markdown",
   "metadata": {},
   "source": [
    "#### Prepare the lattice"
   ]
  },
  {
   "cell_type": "code",
   "execution_count": 22,
   "metadata": {},
   "outputs": [],
   "source": [
    "def fun(u, n,f, f_prime,c, **kwargs):\n",
    "    v = np.zeros((n + 2, n + 2))\n",
    "    \n",
    "    #buttom value = 1\n",
    "    v[n+1,:] = 1\n",
    "    # top value = 1\n",
    "    #v[0,:] = 1\n",
    "    # center value = 1\n",
    "    #v[int(n/2),int(n/2)] = 1\n",
    "    \n",
    "    \n",
    "    u = u.reshape((n, n))\n",
    "    v[1:-1, 1:-1] = u\n",
    "    y = v[:-2, 1:-1] + v[2:, 1:-1] + v[1:-1, :-2] + v[1:-1, 2:] - 4 * u + c * f(u)\n",
    "    return y.ravel()"
   ]
  },
  {
   "cell_type": "markdown",
   "metadata": {},
   "source": [
    "#### Prepare Jacobians"
   ]
  },
  {
   "cell_type": "code",
   "execution_count": 23,
   "metadata": {},
   "outputs": [],
   "source": [
    "def compute_jac_indices(n):\n",
    "    i = np.arange(n)\n",
    "    jj, ii = np.meshgrid(i, i)\n",
    "\n",
    "    ii = ii.ravel()\n",
    "    jj = jj.ravel()\n",
    "\n",
    "    ij = np.arange(n**2)\n",
    "\n",
    "    jac_rows = [ij]\n",
    "    jac_cols = [ij]\n",
    "\n",
    "    mask = ii > 0\n",
    "    ij_mask = ij[mask]\n",
    "    jac_rows.append(ij_mask)\n",
    "    jac_cols.append(ij_mask - n)\n",
    "\n",
    "    mask = ii < n - 1\n",
    "    ij_mask = ij[mask]\n",
    "    jac_rows.append(ij_mask)\n",
    "    jac_cols.append(ij_mask + n)\n",
    "\n",
    "    mask = jj > 0\n",
    "    ij_mask = ij[mask]\n",
    "    jac_rows.append(ij_mask)\n",
    "    jac_cols.append(ij_mask - 1)\n",
    "\n",
    "    mask = jj < n - 1\n",
    "    ij_mask = ij[mask]\n",
    "    jac_rows.append(ij_mask)\n",
    "    jac_cols.append(ij_mask + 1)\n",
    "\n",
    "    return np.hstack(jac_rows), np.hstack(jac_cols)\n"
   ]
  },
  {
   "cell_type": "code",
   "execution_count": 24,
   "metadata": {},
   "outputs": [],
   "source": [
    "jac_rows, jac_cols = compute_jac_indices(n)"
   ]
  },
  {
   "cell_type": "code",
   "execution_count": 25,
   "metadata": {},
   "outputs": [
    {
     "data": {
      "text/plain": [
       "(array([   0,    1,    2, ..., 9996, 9997, 9998]),\n",
       " array([   0,    1,    2, ..., 9997, 9998, 9999]))"
      ]
     },
     "execution_count": 25,
     "metadata": {},
     "output_type": "execute_result"
    }
   ],
   "source": [
    "jac_rows, jac_cols"
   ]
  },
  {
   "cell_type": "code",
   "execution_count": 26,
   "metadata": {},
   "outputs": [],
   "source": [
    "def jac(u, n,f, f_prime,c, jac_rows=None, jac_cols=None):\n",
    "    jac_values = np.ones_like(jac_cols, dtype=float)\n",
    "    jac_values[:n**2] = -4 +  c * f_prime(u)\n",
    "    return coo_matrix((jac_values, (jac_rows, jac_cols)), shape=(n**2, n**2))\n"
   ]
  },
  {
   "cell_type": "code",
   "execution_count": 27,
   "metadata": {},
   "outputs": [],
   "source": [
    "u0 = np.ones(n**2) * 0.5"
   ]
  },
  {
   "cell_type": "markdown",
   "metadata": {},
   "source": [
    "#### [Optimization: Least Square](https://docs.scipy.org/doc/scipy/reference/generated/scipy.optimize.least_squares.html#scipy.optimize.least_squares)"
   ]
  },
  {
   "cell_type": "code",
   "execution_count": 28,
   "metadata": {},
   "outputs": [
    {
     "name": "stdout",
     "output_type": "stream",
     "text": [
      "`gtol` termination condition is satisfied.\n",
      "Function evaluations 738, initial cost 1.1562e+02, final cost 6.4462e-01, first-order optimality 9.38e-04.\n"
     ]
    }
   ],
   "source": [
    "res_1 = least_squares(fun, u0, jac=jac, gtol=1e-3, args=(n,f, f_prime,c),\\\n",
    "                      kwargs={'jac_rows': jac_rows, 'jac_cols': jac_cols}, verbose=1)"
   ]
  },
  {
   "cell_type": "markdown",
   "metadata": {},
   "source": [
    "#### Returned quantities after solution"
   ]
  },
  {
   "cell_type": "code",
   "execution_count": 21,
   "metadata": {},
   "outputs": [
    {
     "data": {
      "text/plain": [
       "(10000,)"
      ]
     },
     "execution_count": 21,
     "metadata": {},
     "output_type": "execute_result"
    }
   ],
   "source": [
    "res_1.x.shape"
   ]
  },
  {
   "cell_type": "code",
   "execution_count": 17,
   "metadata": {},
   "outputs": [
    {
     "data": {
      "text/plain": [
       "array([0.00622038, 0.01236634, 0.01833963, ..., 0.01834064, 0.01236645,\n",
       "       0.00622026])"
      ]
     },
     "execution_count": 17,
     "metadata": {},
     "output_type": "execute_result"
    }
   ],
   "source": [
    "res_1.x"
   ]
  },
  {
   "cell_type": "code",
   "execution_count": 19,
   "metadata": {},
   "outputs": [
    {
     "data": {
      "text/plain": [
       "array([-0.00014825, -0.00029118, -0.00041394, ..., -0.000414  ,\n",
       "       -0.00029121, -0.00014826])"
      ]
     },
     "execution_count": 19,
     "metadata": {},
     "output_type": "execute_result"
    }
   ],
   "source": [
    "res_1.fun"
   ]
  },
  {
   "cell_type": "code",
   "execution_count": 22,
   "metadata": {},
   "outputs": [
    {
     "data": {
      "text/plain": [
       "(10000,)"
      ]
     },
     "execution_count": 22,
     "metadata": {},
     "output_type": "execute_result"
    }
   ],
   "source": [
    "res_1.fun.shape"
   ]
  },
  {
   "cell_type": "code",
   "execution_count": 23,
   "metadata": {},
   "outputs": [
    {
     "data": {
      "text/plain": [
       "<10000x10000 sparse matrix of type '<class 'numpy.float64'>'\n",
       "\twith 49600 stored elements in Compressed Sparse Row format>"
      ]
     },
     "execution_count": 23,
     "metadata": {},
     "output_type": "execute_result"
    }
   ],
   "source": [
    "res_1.jac"
   ]
  },
  {
   "cell_type": "markdown",
   "metadata": {},
   "source": [
    "#### Plot the solutions"
   ]
  },
  {
   "cell_type": "code",
   "execution_count": 20,
   "metadata": {},
   "outputs": [
    {
     "data": {
      "image/png": "[encoded data removed]",
      "text/plain": [
       "<Figure size 1152x360 with 4 Axes>"
      ]
     },
     "metadata": {
      "needs_background": "light"
     },
     "output_type": "display_data"
    }
   ],
   "source": [
    "plt.figure(figsize=(16, 5))\n",
    "\n",
    "plt.subplot(131)\n",
    "plt.plot(res_1.x)\n",
    "\n",
    "\n",
    "plt.subplot(132)\n",
    "plt.imshow(res_1.x.reshape((n, n)),\\\n",
    "           cmap='coolwarm',\\\n",
    "           vmin=-max(abs(res_1.x)),\\\n",
    "           vmax=max(abs(res_1.x)))\n",
    "\n",
    "plt.colorbar(use_gridspec=True,\\\n",
    "             fraction=0.046,\\\n",
    "             pad=0.04)\n",
    "\n",
    "\n",
    "\n",
    "plt.subplot(133)\n",
    "plt.plot(res_1.fun)\n",
    "\n",
    "\n",
    "plt.tight_layout()"
   ]
  },
  {
   "cell_type": "markdown",
   "metadata": {},
   "source": [
    "### References:\n",
    "1. http://folk.ntnu.no/leifh/teaching/tkt4140/._main000.html\n",
    "2. http://folk.ntnu.no/leifh/teaching/tkt4140/._main055.html\n",
    "3. https://docs.scipy.org/doc/scipy/reference/generated/scipy.optimize.least_squares.html#scipy.optimize.least_squares\n",
    "4. https://scipy-cookbook.readthedocs.io/items/discrete_bvp.html#solving-a-discrete-boundary-value-problem-in-scipy"
   ]
  }
 ],
 "metadata": {
  "kernelspec": {
   "display_name": "Python 3",
   "language": "python",
   "name": "python3"
  },
  "language_info": {
   "codemirror_mode": {
    "name": "ipython",
    "version": 3
   },
   "file_extension": ".py",
   "mimetype": "text/x-python",
   "name": "python",
   "nbconvert_exporter": "python",
   "pygments_lexer": "ipython3",
   "version": "3.7.3"
  }
 },
 "nbformat": 4,
 "nbformat_minor": 2
}
